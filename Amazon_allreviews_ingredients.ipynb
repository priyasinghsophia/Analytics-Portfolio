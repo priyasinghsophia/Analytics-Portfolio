{
  "nbformat": 4,
  "nbformat_minor": 0,
  "metadata": {
    "colab": {
      "provenance": [],
      "toc_visible": true
    },
    "kernelspec": {
      "name": "python3",
      "display_name": "Python 3"
    },
    "language_info": {
      "name": "python"
    }
  },
  "cells": [
    {
      "cell_type": "code",
      "metadata": {
        "id": "2sugcwFycU0s"
      },
      "source": [
        "##Allreviews.csv\n",
        "##https://drive.google.com/file/d/1-7NLpbIG8W6jRXnihqr1XSDXCxZGDPGD/view?usp=sharing\n",
        "#Check autorisation before reading input file\n",
        "auth.authenticate_user()\n",
        "gauth = GoogleAuth()\n",
        "gauth.credentials = GoogleCredentials.get_application_default()\n",
        "drive = GoogleDrive(gauth)\n",
        "downloaded = drive.CreateFile({'id':\"1-7NLpbIG8W6jRXnihqr1XSDXCxZGDPGD\"})   # replace the id with id of file you want to access\n",
        "downloaded.GetContentFile('allreviews.csv')        # replace the file name with your file"
      ],
      "execution_count": null,
      "outputs": []
    },
    {
      "cell_type": "code",
      "metadata": {
        "colab": {
          "base_uri": "https://localhost:8080/",
          "height": 1000
        },
        "id": "NugBdBC0cU2m",
        "outputId": "8562442c-fc2b-4ea3-a20f-5670b2aa99ac"
      },
      "source": [
        "allreviews_df = pd.read_csv(\"allreviews.csv\",sep=\",\")\n",
        "allreviews_df.head(100)"
      ],
      "execution_count": null,
      "outputs": [
        {
          "output_type": "execute_result",
          "data": {
            "text/html": [
              "<div>\n",
              "<style scoped>\n",
              "    .dataframe tbody tr th:only-of-type {\n",
              "        vertical-align: middle;\n",
              "    }\n",
              "\n",
              "    .dataframe tbody tr th {\n",
              "        vertical-align: top;\n",
              "    }\n",
              "\n",
              "    .dataframe thead th {\n",
              "        text-align: right;\n",
              "    }\n",
              "</style>\n",
              "<table border=\"1\" class=\"dataframe\">\n",
              "  <thead>\n",
              "    <tr style=\"text-align: right;\">\n",
              "      <th></th>\n",
              "      <th>ASIN</th>\n",
              "      <th>ProductFlavor</th>\n",
              "      <th>ProductName</th>\n",
              "      <th>ProductNumReviews</th>\n",
              "      <th>RetrievedTime</th>\n",
              "      <th>ReviewContent</th>\n",
              "      <th>ReviewDomain</th>\n",
              "      <th>ReviewEarly</th>\n",
              "      <th>ReviewHelpful</th>\n",
              "      <th>ReviewId</th>\n",
              "      <th>ReviewLink</th>\n",
              "      <th>ReviewStar</th>\n",
              "      <th>ReviewTime</th>\n",
              "      <th>ReviewVerifiedP</th>\n",
              "      <th>ReviewVine</th>\n",
              "      <th>ReviewersId</th>\n",
              "      <th>ReviewersName</th>\n",
              "      <th>ProcessedText</th>\n",
              "      <th>VaderScore</th>\n",
              "      <th>Effectiveness</th>\n",
              "    </tr>\n",
              "  </thead>\n",
              "  <tbody>\n",
              "    <tr>\n",
              "      <th>0</th>\n",
              "      <td>B0021FEMZG</td>\n",
              "      <td>Chocolate</td>\n",
              "      <td>PlantFusion Complete Plant Based Pea Protein P...</td>\n",
              "      <td>4762</td>\n",
              "      <td>2020-07-22</td>\n",
              "      <td>Used to love this protein shake. A little bit ...</td>\n",
              "      <td>amazon.com</td>\n",
              "      <td>0</td>\n",
              "      <td>584</td>\n",
              "      <td>R24DK56XHP10W8</td>\n",
              "      <td>/gp/customer-reviews/R24DK56XHP10W8</td>\n",
              "      <td>2.0</td>\n",
              "      <td>2018-09-01</td>\n",
              "      <td>1</td>\n",
              "      <td>0</td>\n",
              "      <td>AFJ2JYCF6YCW65ZW7AV2J4YO5MIQ</td>\n",
              "      <td>arrow</td>\n",
              "      <td>use love protein shake little bite sweeter oth...</td>\n",
              "      <td>0.8494</td>\n",
              "      <td>0.0</td>\n",
              "    </tr>\n",
              "    <tr>\n",
              "      <th>1</th>\n",
              "      <td>B00I01ZXYE</td>\n",
              "      <td>Flavor_absent</td>\n",
              "      <td>ONE ORGANIC Sushi Nori Premium Roasted Organic...</td>\n",
              "      <td>955</td>\n",
              "      <td>2020-07-22</td>\n",
              "      <td>One Organic Sushi Nori, 50 sheets = https://ww...</td>\n",
              "      <td>amazon.com</td>\n",
              "      <td>0</td>\n",
              "      <td>92</td>\n",
              "      <td>R2W0O1EYHJDT25</td>\n",
              "      <td>/gp/customer-reviews/R2W0O1EYHJDT25</td>\n",
              "      <td>5.0</td>\n",
              "      <td>2016-10-09</td>\n",
              "      <td>1</td>\n",
              "      <td>0</td>\n",
              "      <td>AHLUVLLSOY2YGWT3H3BWMNB5LREQ</td>\n",
              "      <td>Daniel</td>\n",
              "      <td>one organic sushi nori sheet https www amazon ...</td>\n",
              "      <td>-0.5859</td>\n",
              "      <td>0.0</td>\n",
              "    </tr>\n",
              "    <tr>\n",
              "      <th>2</th>\n",
              "      <td>B0021FEMZG</td>\n",
              "      <td>Natural - No Stevia</td>\n",
              "      <td>PlantFusion Complete Plant Based Pea Protein P...</td>\n",
              "      <td>4762</td>\n",
              "      <td>2020-07-22</td>\n",
              "      <td>Product contains guar gum, AKA carrageenan. Lo...</td>\n",
              "      <td>amazon.com</td>\n",
              "      <td>0</td>\n",
              "      <td>376</td>\n",
              "      <td>R2M5RMJ8V2KT34</td>\n",
              "      <td>/gp/customer-reviews/R2M5RMJ8V2KT34</td>\n",
              "      <td>1.0</td>\n",
              "      <td>2018-09-01</td>\n",
              "      <td>1</td>\n",
              "      <td>0</td>\n",
              "      <td>AHJCHLZ4PJNFAGRZCNJTELPUEJGA</td>\n",
              "      <td>sam smalls</td>\n",
              "      <td>product contain guar gum aka carrageenan look ...</td>\n",
              "      <td>-0.8176</td>\n",
              "      <td>0.0</td>\n",
              "    </tr>\n",
              "    <tr>\n",
              "      <th>3</th>\n",
              "      <td>B00I01ZXYE</td>\n",
              "      <td>Flavor_absent</td>\n",
              "      <td>ONE ORGANIC Sushi Nori Premium Roasted Organic...</td>\n",
              "      <td>955</td>\n",
              "      <td>2020-07-22</td>\n",
              "      <td>If I had known this was made in China I would ...</td>\n",
              "      <td>amazon.com</td>\n",
              "      <td>0</td>\n",
              "      <td>37</td>\n",
              "      <td>R16CTB42DC89CS</td>\n",
              "      <td>/gp/customer-reviews/R16CTB42DC89CS</td>\n",
              "      <td>1.0</td>\n",
              "      <td>2019-03-04</td>\n",
              "      <td>1</td>\n",
              "      <td>0</td>\n",
              "      <td>AFRKGOJKOYKAS4HBZNMIROHY6TZQ</td>\n",
              "      <td>josephine</td>\n",
              "      <td>know make china would buy throw mine eat leave...</td>\n",
              "      <td>0.4310</td>\n",
              "      <td>0.0</td>\n",
              "    </tr>\n",
              "    <tr>\n",
              "      <th>4</th>\n",
              "      <td>B083SFBKPT</td>\n",
              "      <td>Flavor_absent</td>\n",
              "      <td>Agar Agar Powder 2oz : Gelatin Substitute, Veg...</td>\n",
              "      <td>587</td>\n",
              "      <td>2020-07-22</td>\n",
              "      <td>This was my first try with this agar-agar and ...</td>\n",
              "      <td>amazon.com</td>\n",
              "      <td>0</td>\n",
              "      <td>152</td>\n",
              "      <td>R2ZH1V4P2CQEN</td>\n",
              "      <td>/gp/customer-reviews/R2ZH1V4P2CQEN</td>\n",
              "      <td>5.0</td>\n",
              "      <td>2017-08-14</td>\n",
              "      <td>1</td>\n",
              "      <td>0</td>\n",
              "      <td>AGXFL2IGLMYHAQFPSA3PSMBD7IHA</td>\n",
              "      <td>Lisa D Ramsey</td>\n",
              "      <td>first try agar agar work great follow instruct...</td>\n",
              "      <td>0.8908</td>\n",
              "      <td>0.0</td>\n",
              "    </tr>\n",
              "    <tr>\n",
              "      <th>...</th>\n",
              "      <td>...</td>\n",
              "      <td>...</td>\n",
              "      <td>...</td>\n",
              "      <td>...</td>\n",
              "      <td>...</td>\n",
              "      <td>...</td>\n",
              "      <td>...</td>\n",
              "      <td>...</td>\n",
              "      <td>...</td>\n",
              "      <td>...</td>\n",
              "      <td>...</td>\n",
              "      <td>...</td>\n",
              "      <td>...</td>\n",
              "      <td>...</td>\n",
              "      <td>...</td>\n",
              "      <td>...</td>\n",
              "      <td>...</td>\n",
              "      <td>...</td>\n",
              "      <td>...</td>\n",
              "      <td>...</td>\n",
              "    </tr>\n",
              "    <tr>\n",
              "      <th>95</th>\n",
              "      <td>B00YQS8ED2</td>\n",
              "      <td>Berry</td>\n",
              "      <td>Country Farms Super Green Drink, Berry Flavor,...</td>\n",
              "      <td>549</td>\n",
              "      <td>2020-07-22</td>\n",
              "      <td>Item is not as advertised, does not contain th...</td>\n",
              "      <td>amazon.com</td>\n",
              "      <td>0</td>\n",
              "      <td>18</td>\n",
              "      <td>R2DL03S8BCXWB2</td>\n",
              "      <td>/gp/customer-reviews/R2DL03S8BCXWB2</td>\n",
              "      <td>1.0</td>\n",
              "      <td>2018-01-07</td>\n",
              "      <td>1</td>\n",
              "      <td>0</td>\n",
              "      <td>AH42T7OVXUBWGNTBJNFWT3UPCIFQ</td>\n",
              "      <td>Katie B</td>\n",
              "      <td>item advertise contain mushroom complex list d...</td>\n",
              "      <td>0.0000</td>\n",
              "      <td>0.0</td>\n",
              "    </tr>\n",
              "    <tr>\n",
              "      <th>96</th>\n",
              "      <td>B000MGSJ5A</td>\n",
              "      <td>Flavor_absent</td>\n",
              "      <td>NOW Foods, Agar Pure Powder, Vegetarian Substi...</td>\n",
              "      <td>463</td>\n",
              "      <td>2020-07-22</td>\n",
              "      <td>I got this since this said it's a substitute f...</td>\n",
              "      <td>amazon.com</td>\n",
              "      <td>0</td>\n",
              "      <td>1</td>\n",
              "      <td>R3XMTWN04B6AR</td>\n",
              "      <td>/gp/customer-reviews/R3XMTWN04B6AR</td>\n",
              "      <td>1.0</td>\n",
              "      <td>2020-06-21</td>\n",
              "      <td>1</td>\n",
              "      <td>0</td>\n",
              "      <td>AHYJ3G652PEBNX6DECFOREWKRV3Q</td>\n",
              "      <td>Kiran Yalasangi</td>\n",
              "      <td>get since say substitute gelatin want make man...</td>\n",
              "      <td>0.9687</td>\n",
              "      <td>0.0</td>\n",
              "    </tr>\n",
              "    <tr>\n",
              "      <th>97</th>\n",
              "      <td>B002EUZEVY</td>\n",
              "      <td>Flavor_absent</td>\n",
              "      <td>Fresh Whole Leaf Irish Moss - Raw - 16 oz</td>\n",
              "      <td>259</td>\n",
              "      <td>2020-07-22</td>\n",
              "      <td>The moss I received is from Indonesia. Has ver...</td>\n",
              "      <td>amazon.com</td>\n",
              "      <td>0</td>\n",
              "      <td>98</td>\n",
              "      <td>R11FB3181B2K0Q</td>\n",
              "      <td>/gp/customer-reviews/R11FB3181B2K0Q</td>\n",
              "      <td>1.0</td>\n",
              "      <td>2018-04-29</td>\n",
              "      <td>1</td>\n",
              "      <td>0</td>\n",
              "      <td>AHP4WPSPJGVCIV6UVSAIRV5EOOBQ</td>\n",
              "      <td>NATALYA Melnik</td>\n",
              "      <td>moss receive indonesia strong bleach smell sta...</td>\n",
              "      <td>-0.7199</td>\n",
              "      <td>0.0</td>\n",
              "    </tr>\n",
              "    <tr>\n",
              "      <th>98</th>\n",
              "      <td>B00YQS8ED2</td>\n",
              "      <td>Chocolate</td>\n",
              "      <td>Country Farms Super Green Drink, Berry Flavor,...</td>\n",
              "      <td>549</td>\n",
              "      <td>2020-07-22</td>\n",
              "      <td>I’ve been using this product for years. Unfort...</td>\n",
              "      <td>amazon.com</td>\n",
              "      <td>0</td>\n",
              "      <td>2</td>\n",
              "      <td>R3IOE7TMQJ2HG8</td>\n",
              "      <td>/gp/customer-reviews/R3IOE7TMQJ2HG8</td>\n",
              "      <td>3.0</td>\n",
              "      <td>2020-02-17</td>\n",
              "      <td>1</td>\n",
              "      <td>0</td>\n",
              "      <td>AHBULV5MOJDZPNDGJDE6LNED7XAA</td>\n",
              "      <td>DrK</td>\n",
              "      <td>use product years unfortunately certain formul...</td>\n",
              "      <td>0.8374</td>\n",
              "      <td>0.0</td>\n",
              "    </tr>\n",
              "    <tr>\n",
              "      <th>99</th>\n",
              "      <td>B000MGSJ5A</td>\n",
              "      <td>Flavor_absent</td>\n",
              "      <td>NOW Foods, Agar Pure Powder, Vegetarian Substi...</td>\n",
              "      <td>463</td>\n",
              "      <td>2020-07-22</td>\n",
              "      <td>THIS PRODUCT IS HORRRRRRRRRRRRIBLE! COMPARED T...</td>\n",
              "      <td>amazon.com</td>\n",
              "      <td>0</td>\n",
              "      <td>2</td>\n",
              "      <td>R1ZB7JFOV2XK1</td>\n",
              "      <td>/gp/customer-reviews/R1ZB7JFOV2XK1</td>\n",
              "      <td>1.0</td>\n",
              "      <td>2020-06-07</td>\n",
              "      <td>1</td>\n",
              "      <td>0</td>\n",
              "      <td>AH6MHR6K3YJECYKOEN5MOLZJUDUQ</td>\n",
              "      <td>Josh Tuner</td>\n",
              "      <td>product horrrrrrrrrrrrible compare live jin ag...</td>\n",
              "      <td>-0.6271</td>\n",
              "      <td>0.0</td>\n",
              "    </tr>\n",
              "  </tbody>\n",
              "</table>\n",
              "<p>100 rows × 20 columns</p>\n",
              "</div>"
            ],
            "text/plain": [
              "          ASIN        ProductFlavor  ... VaderScore  Effectiveness\n",
              "0   B0021FEMZG            Chocolate  ...     0.8494            0.0\n",
              "1   B00I01ZXYE        Flavor_absent  ...    -0.5859            0.0\n",
              "2   B0021FEMZG  Natural - No Stevia  ...    -0.8176            0.0\n",
              "3   B00I01ZXYE        Flavor_absent  ...     0.4310            0.0\n",
              "4   B083SFBKPT        Flavor_absent  ...     0.8908            0.0\n",
              "..         ...                  ...  ...        ...            ...\n",
              "95  B00YQS8ED2                Berry  ...     0.0000            0.0\n",
              "96  B000MGSJ5A        Flavor_absent  ...     0.9687            0.0\n",
              "97  B002EUZEVY        Flavor_absent  ...    -0.7199            0.0\n",
              "98  B00YQS8ED2            Chocolate  ...     0.8374            0.0\n",
              "99  B000MGSJ5A        Flavor_absent  ...    -0.6271            0.0\n",
              "\n",
              "[100 rows x 20 columns]"
            ]
          },
          "metadata": {
            "tags": []
          },
          "execution_count": 3
        }
      ]
    },
    {
      "cell_type": "code",
      "metadata": {
        "colab": {
          "base_uri": "https://localhost:8080/"
        },
        "id": "oIVT6imdcN3y",
        "outputId": "578a644a-2553-4b44-cb0b-0efe28cc6c54"
      },
      "source": [
        "#Importing required library\n",
        "import numpy as np\n",
        "import pandas as pd\n",
        "from sklearn.model_selection import train_test_split\n",
        "\n",
        "import nltk\n",
        "from nltk.corpus import stopwords\n",
        "from nltk.classify import SklearnClassifier\n",
        "\n",
        "from wordcloud import WordCloud,STOPWORDS\n",
        "import matplotlib.pyplot as plt\n",
        "%matplotlib inline\n",
        "\n",
        "from subprocess import check_output\n",
        "#Downloading required libraries in nltk\n",
        "import nltk\n",
        "nltk.download('stopwords')\n",
        "nltk.download('averaged_perceptron_tagger')\n",
        "nltk.download('wordnet')\n",
        "nltk.download('vader_lexicon')\n",
        "nltk.download('punkt')\n",
        "\n",
        "!pip install PyDrive\n",
        "from pydrive.auth import GoogleAuth\n",
        "from pydrive.drive import GoogleDrive\n",
        "from google.colab import auth\n",
        "from oauth2client.client import GoogleCredentials"
      ],
      "execution_count": null,
      "outputs": [
        {
          "output_type": "stream",
          "text": [
            "[nltk_data] Downloading package stopwords to /root/nltk_data...\n",
            "[nltk_data]   Unzipping corpora/stopwords.zip.\n",
            "[nltk_data] Downloading package averaged_perceptron_tagger to\n",
            "[nltk_data]     /root/nltk_data...\n",
            "[nltk_data]   Unzipping taggers/averaged_perceptron_tagger.zip.\n",
            "[nltk_data] Downloading package wordnet to /root/nltk_data...\n",
            "[nltk_data]   Unzipping corpora/wordnet.zip.\n",
            "[nltk_data] Downloading package vader_lexicon to /root/nltk_data...\n",
            "[nltk_data] Downloading package punkt to /root/nltk_data...\n",
            "[nltk_data]   Unzipping tokenizers/punkt.zip.\n",
            "Requirement already satisfied: PyDrive in /usr/local/lib/python3.7/dist-packages (1.3.1)\n",
            "Requirement already satisfied: PyYAML>=3.0 in /usr/local/lib/python3.7/dist-packages (from PyDrive) (3.13)\n",
            "Requirement already satisfied: oauth2client>=4.0.0 in /usr/local/lib/python3.7/dist-packages (from PyDrive) (4.1.3)\n",
            "Requirement already satisfied: google-api-python-client>=1.2 in /usr/local/lib/python3.7/dist-packages (from PyDrive) (1.12.8)\n",
            "Requirement already satisfied: pyasn1>=0.1.7 in /usr/local/lib/python3.7/dist-packages (from oauth2client>=4.0.0->PyDrive) (0.4.8)\n",
            "Requirement already satisfied: rsa>=3.1.4 in /usr/local/lib/python3.7/dist-packages (from oauth2client>=4.0.0->PyDrive) (4.7.2)\n",
            "Requirement already satisfied: six>=1.6.1 in /usr/local/lib/python3.7/dist-packages (from oauth2client>=4.0.0->PyDrive) (1.15.0)\n",
            "Requirement already satisfied: pyasn1-modules>=0.0.5 in /usr/local/lib/python3.7/dist-packages (from oauth2client>=4.0.0->PyDrive) (0.2.8)\n",
            "Requirement already satisfied: httplib2>=0.9.1 in /usr/local/lib/python3.7/dist-packages (from oauth2client>=4.0.0->PyDrive) (0.17.4)\n",
            "Requirement already satisfied: google-auth-httplib2>=0.0.3 in /usr/local/lib/python3.7/dist-packages (from google-api-python-client>=1.2->PyDrive) (0.0.4)\n",
            "Requirement already satisfied: uritemplate<4dev,>=3.0.0 in /usr/local/lib/python3.7/dist-packages (from google-api-python-client>=1.2->PyDrive) (3.0.1)\n",
            "Requirement already satisfied: google-api-core<2dev,>=1.21.0 in /usr/local/lib/python3.7/dist-packages (from google-api-python-client>=1.2->PyDrive) (1.26.3)\n",
            "Requirement already satisfied: google-auth>=1.16.0 in /usr/local/lib/python3.7/dist-packages (from google-api-python-client>=1.2->PyDrive) (1.30.0)\n",
            "Requirement already satisfied: packaging>=14.3 in /usr/local/lib/python3.7/dist-packages (from google-api-core<2dev,>=1.21.0->google-api-python-client>=1.2->PyDrive) (20.9)\n",
            "Requirement already satisfied: protobuf>=3.12.0 in /usr/local/lib/python3.7/dist-packages (from google-api-core<2dev,>=1.21.0->google-api-python-client>=1.2->PyDrive) (3.12.4)\n",
            "Requirement already satisfied: pytz in /usr/local/lib/python3.7/dist-packages (from google-api-core<2dev,>=1.21.0->google-api-python-client>=1.2->PyDrive) (2018.9)\n",
            "Requirement already satisfied: googleapis-common-protos<2.0dev,>=1.6.0 in /usr/local/lib/python3.7/dist-packages (from google-api-core<2dev,>=1.21.0->google-api-python-client>=1.2->PyDrive) (1.53.0)\n",
            "Requirement already satisfied: requests<3.0.0dev,>=2.18.0 in /usr/local/lib/python3.7/dist-packages (from google-api-core<2dev,>=1.21.0->google-api-python-client>=1.2->PyDrive) (2.23.0)\n",
            "Requirement already satisfied: setuptools>=40.3.0 in /usr/local/lib/python3.7/dist-packages (from google-api-core<2dev,>=1.21.0->google-api-python-client>=1.2->PyDrive) (56.1.0)\n",
            "Requirement already satisfied: cachetools<5.0,>=2.0.0 in /usr/local/lib/python3.7/dist-packages (from google-auth>=1.16.0->google-api-python-client>=1.2->PyDrive) (4.2.2)\n",
            "Requirement already satisfied: pyparsing>=2.0.2 in /usr/local/lib/python3.7/dist-packages (from packaging>=14.3->google-api-core<2dev,>=1.21.0->google-api-python-client>=1.2->PyDrive) (2.4.7)\n",
            "Requirement already satisfied: idna<3,>=2.5 in /usr/local/lib/python3.7/dist-packages (from requests<3.0.0dev,>=2.18.0->google-api-core<2dev,>=1.21.0->google-api-python-client>=1.2->PyDrive) (2.10)\n",
            "Requirement already satisfied: certifi>=2017.4.17 in /usr/local/lib/python3.7/dist-packages (from requests<3.0.0dev,>=2.18.0->google-api-core<2dev,>=1.21.0->google-api-python-client>=1.2->PyDrive) (2020.12.5)\n",
            "Requirement already satisfied: urllib3!=1.25.0,!=1.25.1,<1.26,>=1.21.1 in /usr/local/lib/python3.7/dist-packages (from requests<3.0.0dev,>=2.18.0->google-api-core<2dev,>=1.21.0->google-api-python-client>=1.2->PyDrive) (1.24.3)\n",
            "Requirement already satisfied: chardet<4,>=3.0.2 in /usr/local/lib/python3.7/dist-packages (from requests<3.0.0dev,>=2.18.0->google-api-core<2dev,>=1.21.0->google-api-python-client>=1.2->PyDrive) (3.0.4)\n"
          ],
          "name": "stdout"
        }
      ]
    },
    {
      "cell_type": "code",
      "metadata": {
        "id": "T5SaAS2HSE_4",
        "colab": {
          "base_uri": "https://localhost:8080/"
        },
        "outputId": "6a417837-fb42-4cb6-93b4-c79c0de8256e"
      },
      "source": [
        "allreviews_df.count"
      ],
      "execution_count": null,
      "outputs": [
        {
          "output_type": "execute_result",
          "data": {
            "text/plain": [
              "<bound method DataFrame.count of                                         ASIN  ... Effectiveness\n",
              "0                                 B0021FEMZG  ...           0.0\n",
              "1                                 B00I01ZXYE  ...           0.0\n",
              "2                                 B0021FEMZG  ...           0.0\n",
              "3                                 B00I01ZXYE  ...           0.0\n",
              "4                                 B083SFBKPT  ...           0.0\n",
              "...                                      ...  ...           ...\n",
              "1538794                           B07N48MTTH  ...           1.0\n",
              "1538795  B077MYP6H8?reviewerType=all_reviews  ...           0.0\n",
              "1538796                           B07N48MTTH  ...           1.0\n",
              "1538797                           B07N48MTTH  ...           0.0\n",
              "1538798                           B07N48MTTH  ...           1.0\n",
              "\n",
              "[1538799 rows x 20 columns]>"
            ]
          },
          "metadata": {
            "tags": []
          },
          "execution_count": 4
        }
      ]
    },
    {
      "cell_type": "code",
      "metadata": {
        "colab": {
          "base_uri": "https://localhost:8080/"
        },
        "id": "Lk2ZqKjMdoPj",
        "outputId": "f67d6ecc-813e-48a4-f5c7-9afd49ffd6cd"
      },
      "source": [
        "from pandas import DataFrame\n",
        "#Unique ASINs\n",
        "asin_list=allreviews_df.ASIN.unique()\n",
        "asin_total=len(asin_list)\n",
        "print(\"Total number of unique ASIN\",asin_total)\n",
        "\n",
        "#Unique product names\n",
        "prod_list=allreviews_df.ProductName.unique()\n",
        "prod_total=len(prod_list)\n",
        "print(\"Total number of unique prod Name\",prod_total)\n",
        "df_prod_name = DataFrame(prod_list,columns=['ProductName'])"
      ],
      "execution_count": null,
      "outputs": [
        {
          "output_type": "stream",
          "text": [
            "Total number of unique ASIN 11087\n",
            "Total number of unique prod Name 11048\n"
          ],
          "name": "stdout"
        }
      ]
    },
    {
      "cell_type": "markdown",
      "metadata": {
        "id": "r7d49a1ycoIZ"
      },
      "source": [
        "Common Function"
      ]
    },
    {
      "cell_type": "code",
      "metadata": {
        "id": "6U-rIQ4rcnq8"
      },
      "source": [
        "import string\n",
        "from nltk import pos_tag\n",
        "from nltk.corpus import stopwords\n",
        "from nltk.tokenize import WhitespaceTokenizer\n",
        "from nltk.stem import WordNetLemmatizer\n",
        "from nltk.tokenize import word_tokenize\n",
        "\n",
        "\n",
        "def clean_text(text):\n",
        "    # lower text\n",
        "    text = text.lower()\n",
        "    # tokenize text and remove puncutation\n",
        "    text = [word.strip(string.punctuation) for word in text.split(\" \")]\n",
        "    # remove words that contain numbers\n",
        "    text = [word for word in text if not any(c.isdigit() for c in word)]\n",
        "    # remove stop words\n",
        "    stop = stopwords.words('english')\n",
        "    text = [x for x in text if x not in stop]\n",
        "    # remove empty tokens\n",
        "    text = [t for t in text if len(t) > 0]\n",
        "    # lemmatize text\n",
        "    #text = [WordNetLemmatizer().lemmatize(t[0], get_wordnet_pos(t[1])) for t in pos_tags]\n",
        "    lemmatizer=WordNetLemmatizer()\n",
        "    text=[lemmatizer.lemmatize(x) for x in text]\n",
        "    # remove words with only one letter\n",
        "    text = [t for t in text if len(t) > 1]\n",
        "    # join all\n",
        "    text = \" \".join(text)\n",
        "    return(text)\n"
      ],
      "execution_count": null,
      "outputs": []
    },
    {
      "cell_type": "markdown",
      "metadata": {
        "id": "gaD4L5nN7tly"
      },
      "source": [
        "**Ingredients based analysis on allreviews.csv**"
      ]
    },
    {
      "cell_type": "code",
      "metadata": {
        "id": "KORUigQzcU6V"
      },
      "source": [
        "#Function to get the keywords from given input string and string_list\n",
        "import re\n",
        "\n",
        "def match(input_string, string_list):\n",
        "    words = re.findall(r'\\w+', input_string)\n",
        "    return [word for word in words if word in string_list]\n"
      ],
      "execution_count": null,
      "outputs": []
    },
    {
      "cell_type": "code",
      "source": [],
      "metadata": {
        "id": "LTFlC2HSbPoD"
      },
      "execution_count": null,
      "outputs": []
    },
    {
      "cell_type": "code",
      "metadata": {
        "id": "u2Tce033cU8T"
      },
      "source": [
        "#Function to set indicator for anxiety, stress and sleep\n",
        "def set_indicator(inputStr):\n",
        "    if (len(inputStr)==0):\n",
        "        result = 0\n",
        "    else:\n",
        "        result = 1\n",
        "    return result\n"
      ],
      "execution_count": null,
      "outputs": []
    },
    {
      "cell_type": "markdown",
      "metadata": {
        "id": "sP70RSHhdRQB"
      },
      "source": [
        "Finding ingredients"
      ]
    },
    {
      "cell_type": "code",
      "metadata": {
        "id": "BzuAGnnF3on8"
      },
      "source": [
        "#List of ingredients and their various names\n",
        "lst_l_arginine = ['l-arginine','larginine','2-amino-5(diaminomethylidene amino) pentanoic acid','2-amino-5-guanidinopentanoic acid','(2S)-2-amino-5-{[amino (imino) methyl]amino}pentanoic acid', '(s)-2-amino-5- guanidinopentanoic acid','acide 2-amino-5-guanidinopentanoïque','arginine','arginine ethyl ester','arginine ethyl ester dihydrochloride','arginine ethyl ester hcl','arginine hcl','arginine hydrochloride','di-arginine malate','di-arginine orotate','di-l-arginine-l-malate','dl-arginine','l-arginina','l-arginine ethyl ester dichloride','l-arginine hcl','l-arginine hexanoate','l-arginine hydrochloride','l-arginine ketoisocaproic acid','l-arginine l-pyroglutamate','l-arginine pyroglutamate','l-arginine taurinate','malate de di-arginine','orotate de di-arginine','r-gene 10']\n",
        "\n",
        "lst_lysine=['lysine','hydrochlorure de l-lysine','l-2,6-diaminohexanoic acid','lisina','l-lysine','l-lysine hcl','l-lysine hydrochloride','l-lysine monohydrochloride','lysine hydrochloride','lysine monohydrochloride','monochlohydrate de l-lysine', 'monochlohydrate de lysine']\n",
        "\n",
        "lst_lemonbalm =['lemonbalm','lemon balm', 'bálsamo de limón', 'cure-all', 'dropsy plant', 'honey plant', 'melisa', 'melissa', 'melissa officinalis', 'melissae folium', 'mélisse', 'mélisse citronnelle', 'mélisse officinale', 'melissenblatt', 'monarde', 'sweet balm', 'sweet mary', 'toronjil']\n",
        "\n",
        "lst_ashwagandha=['ashwagandha', 'ajagandha', 'amangura', 'amukkirag', 'asan', 'asana', 'asgand', 'asgandh', 'asgandha', 'ashagandha', 'ashvagandha', 'ashwaganda', 'ashwanga', 'asoda', 'asundha', 'asvagandha',\n",
        "                 'aswagandha', 'avarada', 'ayurvedic ginseng', 'cerise d hiver', 'clustered wintercherry', 'ghoda asoda', 'ginseng ayurvédique',\n",
        "                 'ginseng indien', 'hayahvaya', 'indian ginseng', 'kanaje hindi', 'kuthmithi', 'orovale', 'peyette', 'physalis somnifera', 'samm al ferakh',\n",
        "                 'samm al rerakh', 'sogade-beru', 'strychnos', 'turangi-ghanda', 'vajigandha', 'winter cherry', 'withania', 'withania somnifera', 'ginseng']\n",
        "\n",
        "lst_gotukola=['gotukola','gotu kola', 'brahma-buti', 'brahma-manduki', 'brahmi', 'centella', 'centella asiatica', 'centella asiática',\n",
        "              'centella asiatique', 'centellase', 'hydrocotyle', 'hydrocotyle asiatica', 'hydrocotyle asiatique', 'hydrocotyle indien',\n",
        "              'indischer wassernabel', 'idrocotyle', 'indian pennywort', 'indian water navelwort', 'ji xue cao', 'khulakhudi', 'luei gong gen', 'luo de da',\n",
        "              'madecassol', 'mandukaparni', 'manduk parani', 'mandukig', 'marsh penny', 'teca', 'ttfca', 'talepetrako', 'thick-leaved pennywort', 'tsubo-kusa',\n",
        "              'tungchian', 'white rot']\n",
        "\n",
        "lst_rhodiola = ['rhodiola', 'arctic root', 'extrait de rhodiole', 'golden root', 'hongjingtian', 'kings crown', 'lignum rhodium', 'orpin rose', 'racine d or',\n",
        "                'racine dorée', 'racine de rhadiola', 'rhodiola rosea', 'rhodiole', 'rhodiole rougeâtre', 'rodia riza', 'rose root', 'rose root extract',\n",
        "                'rosenroot', 'roseroot', 'rosewort', 'sedum rhodiola', 'sedum rosea', 'siberian golden root', 'siberian rhodiola rosea', 'snowdown rose']\n",
        "\n",
        "lst_chamomile = ['chamomile','german chamomile','matricaria chamomilla','chamomilla', 'chamomilla recutita',  'matricaria recutita',\n",
        "                 'matricaria suaveolens']\n",
        "\n",
        "lst_passionflower=['passionflower', 'passion flower', 'apricot vine', 'burucuya', 'corona de cristo', 'fleischfarbige', 'fleur de la passion',\n",
        "                   'fleur de passiflore', 'flor de passion', 'granadilla', 'grandilla', 'grenadille', 'madre selva', 'maracuja', 'maypop', 'maypop passion flower',\n",
        "                   'pasiflora', 'pasionari', 'pasionaria', 'passiflora', 'passiflora incarnata', 'passiflorae herbal', 'passiflore', 'passiflore aubépine',\n",
        "                   'passiflore officinale', 'passiflore purpurine', 'passiflore rouge', 'passiflorina', 'passion vine', 'passionaria', 'passionblume',\n",
        "                   'passionflower herb', 'passionsblomma', 'passionsblumenkraut', 'purple passion flower', 'water lemon', 'wild passion flower']\n",
        "\n",
        "lst_turmeric=['turmeric', 'curcuma', 'curcuma aromatica', 'curcuma domestica', 'curcumae longa', 'curcumae longae rhizoma', 'curcumin', 'curcumine', 'curcuminoid', 'curcumino&iuml;de',\n",
        "              'curcumino&iuml;des', 'curcuminoids', 'halada', 'haldi', 'haridra', 'indian saffron', 'nisha', 'pian jiang huang', 'racine de curcuma',\n",
        "              'radix curcumae', 'rajani', 'rhizoma cucurmae longae', 'safran bourbon', 'safran de batallita', 'safran des indes', 'turmeric root', 'yu jin']\n",
        "\n",
        "lst_bacopa =['andri', 'bacopa', 'bacopa monniera', 'bacopa monnieri', 'herb of grace', 'herpestis herb', 'herpestis monniera', 'hysope d eau', 'indian pennywort',\n",
        "              'jalanimba', 'jal-brahmi', 'jalnaveri', 'nira-brahmi', 'moniera cuneifolia', 'sambrani chettu', 'thyme-leave gratiola', 'water hyssop']\n",
        "\n",
        "lst_valarian=['valarian', 'all-heal', 'amantilla', 'baldrian', 'baldrianwurzel', 'belgium valerian', 'common valerian', 'fragrant valerian',\n",
        "              'garden heliotrope', 'garden valerian', 'grande valériane', 'guérit tout', 'herbe à la femme meurtrie', 'herbe aux chats',\n",
        "              'herbe aux coupures', 'herbe de notre-dame', 'herbe de saint-georges', 'herbe du loup', 'indian valerian', 'mexican valerian',\n",
        "              'pacific valerian', 'rhizome de valériane', 'tagar', 'tagar-ganthoda', 'tagara', 'valeriana', 'valeriana angustifolia', 'valeriana edulis',\n",
        "              'valeriana jatamansii', 'valeriana officinalis', 'valeriana pseudofficinalis', 'valeriana rhizome', 'valeriana sitchensis',\n",
        "              'valeriana wallichii', 'valerianae radix', 'valeriane', 'valériane', 'valériane à petites feuilles', 'valériane africaine',\n",
        "              'valériane celtique', 'valériane commune', 'valériane de belgique', 'valériane des collines', 'valériane dioïque', 'valériane du jardin',\n",
        "              'valériane indienne', 'valériane mexicaine', 'valériane officinale', 'valériane sauvage']"
      ],
      "execution_count": null,
      "outputs": []
    },
    {
      "cell_type": "code",
      "metadata": {
        "id": "GvqWJuutMvfn"
      },
      "source": [
        "# clean ProductName data\n",
        "allreviews_df[\"ProductName_Clean\"] = allreviews_df[\"ProductName\"].apply(lambda x: clean_text(x))"
      ],
      "execution_count": null,
      "outputs": []
    },
    {
      "cell_type": "code",
      "metadata": {
        "id": "Pv2cs_jWlXy8"
      },
      "source": [
        "#Find the ingredient keys\n",
        "allreviews_df[\"larginine_key\"] = allreviews_df[\"ProductName_Clean\"].apply(lambda x: match(input_string=x, string_list=lst_l_arginine))\n",
        "allreviews_df[\"lysine_key\"] = allreviews_df[\"ProductName_Clean\"].apply(lambda x: match(input_string=x, string_list=lst_lysine))\n",
        "allreviews_df[\"lemonbalm_key\"] = allreviews_df[\"ProductName_Clean\"].apply(lambda x: match(input_string=x, string_list=lst_lemonbalm))\n",
        "allreviews_df[\"ashwagandha_key\"] = allreviews_df[\"ProductName_Clean\"].apply(lambda x: match(input_string=x, string_list=lst_ashwagandha))\n",
        "allreviews_df[\"gotukola_key\"] = allreviews_df[\"ProductName_Clean\"].apply(lambda x: match(input_string=x, string_list=lst_gotukola))\n",
        "allreviews_df[\"rhodiola_key\"] = allreviews_df[\"ProductName_Clean\"].apply(lambda x: match(input_string=x, string_list=lst_rhodiola))\n",
        "allreviews_df[\"chamomile_key\"] = allreviews_df[\"ProductName_Clean\"].apply(lambda x: match(input_string=x, string_list=lst_chamomile))\n",
        "allreviews_df[\"passionflower_key\"] = allreviews_df[\"ProductName_Clean\"].apply(lambda x: match(input_string=x, string_list=lst_passionflower))\n",
        "allreviews_df[\"turmeric_key\"] = allreviews_df[\"ProductName_Clean\"].apply(lambda x: match(input_string=x, string_list=lst_turmeric))\n",
        "allreviews_df[\"bacopa_key\"] = allreviews_df[\"ProductName_Clean\"].apply(lambda x: match(input_string=x, string_list=lst_bacopa))\n",
        "allreviews_df[\"valarian_key\"] = allreviews_df[\"ProductName_Clean\"].apply(lambda x: match(input_string=x, string_list=lst_valarian))"
      ],
      "execution_count": null,
      "outputs": []
    },
    {
      "cell_type": "code",
      "metadata": {
        "id": "L6DvIjzxcVBr"
      },
      "source": [
        "#Find the ingredient keys\n",
        "allreviews_df[\"larginine_key\"] = allreviews_df[\"ProductName_Clean\"].apply(lambda x: match(input_string=x, string_list=lst_l_arginine))\n",
        "allreviews_df[\"lysine_key\"] = allreviews_df[\"ProductName_Clean\"].apply(lambda x: match(input_string=x, string_list=lst_lysine))\n",
        "allreviews_df[\"lemonbalm_key\"] = allreviews_df[\"ProductName_Clean\"].apply(lambda x: match(input_string=x, string_list=lst_lemonbalm))\n",
        "allreviews_df[\"ashwagandha_key\"] = allreviews_df[\"ProductName_Clean\"].apply(lambda x: match(input_string=x, string_list=lst_ashwagandha))\n",
        "allreviews_df[\"gotukola_key\"] = allreviews_df[\"ProductName_Clean\"].apply(lambda x: match(input_string=x, string_list=lst_gotukola))\n",
        "allreviews_df[\"rhodiola_key\"] = allreviews_df[\"ProductName_Clean\"].apply(lambda x: match(input_string=x, string_list=lst_rhodiola))\n",
        "allreviews_df[\"chamomile_key\"] = allreviews_df[\"ProductName_Clean\"].apply(lambda x: match(input_string=x, string_list=lst_chamomile))\n",
        "allreviews_df[\"passionflower_key\"] = allreviews_df[\"ProductName_Clean\"].apply(lambda x: match(input_string=x, string_list=lst_passionflower))\n",
        "allreviews_df[\"turmeric_key\"] = allreviews_df[\"ProductName_Clean\"].apply(lambda x: match(input_string=x, string_list=lst_turmeric))\n",
        "allreviews_df[\"bacopa_key\"] = allreviews_df[\"ProductName_Clean\"].apply(lambda x: match(input_string=x, string_list=lst_bacopa))\n",
        "allreviews_df[\"valarian_key\"] = allreviews_df[\"ProductName_Clean\"].apply(lambda x: match(input_string=x, string_list=lst_valarian))"
      ],
      "execution_count": null,
      "outputs": []
    },
    {
      "cell_type": "code",
      "metadata": {
        "id": "u3yoLP_acVFh"
      },
      "source": [
        "#Get unique ingredient key\n",
        "allreviews_df['larginine_key'] = allreviews_df['larginine_key'].apply(lambda x: list(pd.unique(x)))\n",
        "allreviews_df['lysine_key'] = allreviews_df['lysine_key'].apply(lambda x: list(pd.unique(x)))\n",
        "allreviews_df['lemonbalm_key'] = allreviews_df['lemonbalm_key'].apply(lambda x: list(pd.unique(x)))\n",
        "allreviews_df['ashwagandha_key'] = allreviews_df['ashwagandha_key'].apply(lambda x: list(pd.unique(x)))\n",
        "allreviews_df['gotukola_key'] = allreviews_df['gotukola_key'].apply(lambda x: list(pd.unique(x)))\n",
        "\n",
        "allreviews_df['rhodiola_key'] = allreviews_df['rhodiola_key'].apply(lambda x: list(pd.unique(x)))\n",
        "allreviews_df['chamomile_key'] = allreviews_df['chamomile_key'].apply(lambda x: list(pd.unique(x)))\n",
        "allreviews_df['passionflower_key'] = allreviews_df['passionflower_key'].apply(lambda x: list(pd.unique(x)))\n",
        "allreviews_df['turmeric_key'] = allreviews_df['turmeric_key'].apply(lambda x: list(pd.unique(x)))\n",
        "allreviews_df['bacopa_key'] = allreviews_df['bacopa_key'].apply(lambda x: list(pd.unique(x)))\n",
        "allreviews_df['valarian_key'] = allreviews_df['valarian_key'].apply(lambda x: list(pd.unique(x)))"
      ],
      "execution_count": null,
      "outputs": []
    },
    {
      "cell_type": "markdown",
      "metadata": {
        "id": "0T1w1ObUVK5x"
      },
      "source": [
        "Display the distribution of each ingredient key"
      ]
    },
    {
      "cell_type": "code",
      "metadata": {
        "id": "XECn-NI-cVH0",
        "colab": {
          "base_uri": "https://localhost:8080/"
        },
        "outputId": "6353bc77-2961-466e-d06d-53a3ac4bcd71"
      },
      "source": [
        "print(allreviews_df[\"larginine_key\"].value_counts())"
      ],
      "execution_count": null,
      "outputs": [
        {
          "output_type": "stream",
          "text": [
            "[]            1538161\n",
            "[arginine]        638\n",
            "Name: larginine_key, dtype: int64\n"
          ],
          "name": "stdout"
        }
      ]
    },
    {
      "cell_type": "code",
      "metadata": {
        "id": "3zeRyWvCcVLt",
        "colab": {
          "base_uri": "https://localhost:8080/"
        },
        "outputId": "19146732-e2d8-463f-8ec9-802129931f1a"
      },
      "source": [
        "print(allreviews_df[\"lysine_key\"].value_counts())"
      ],
      "execution_count": null,
      "outputs": [
        {
          "output_type": "stream",
          "text": [
            "[]          1538175\n",
            "[lysine]        624\n",
            "Name: lysine_key, dtype: int64\n"
          ],
          "name": "stdout"
        }
      ]
    },
    {
      "cell_type": "code",
      "metadata": {
        "id": "uVqihk8lIAJl",
        "colab": {
          "base_uri": "https://localhost:8080/"
        },
        "outputId": "57d13e7b-ba8c-418d-a379-16c256dcf041"
      },
      "source": [
        "print(allreviews_df[\"lemonbalm_key\"].value_counts())"
      ],
      "execution_count": null,
      "outputs": [
        {
          "output_type": "stream",
          "text": [
            "[]                      1534741\n",
            "[melissa]                  3978\n",
            "[melissa, lemonbalm]         74\n",
            "[toronjil]                    4\n",
            "[melisa]                      2\n",
            "Name: lemonbalm_key, dtype: int64\n"
          ],
          "name": "stdout"
        }
      ]
    },
    {
      "cell_type": "code",
      "metadata": {
        "id": "qbW8cVCrIAXL",
        "colab": {
          "base_uri": "https://localhost:8080/"
        },
        "outputId": "a2be748e-7de5-42f3-f788-6b45165799ac"
      },
      "source": [
        "print(allreviews_df[\"ashwagandha_key\"].value_counts())"
      ],
      "execution_count": null,
      "outputs": [
        {
          "output_type": "stream",
          "text": [
            "[]                                     1453057\n",
            "[ashwagandha]                            69687\n",
            "[ginseng]                                 8327\n",
            "[ashwagandha, ginseng]                    2765\n",
            "[ashwaganda]                              1634\n",
            "[ashwagandha, withania]                   1575\n",
            "[ashwagandha, ashwaganda]                 1388\n",
            "[ginseng, ashwagandha]                     186\n",
            "[asana]                                     99\n",
            "[ashwaganda, ginseng]                       57\n",
            "[ashwagandha, withania, ginseng]            16\n",
            "[ashwagandha, withania, ashwaganda]          6\n",
            "[ashwagandha, ginseng, withania]             2\n",
            "Name: ashwagandha_key, dtype: int64\n"
          ],
          "name": "stdout"
        }
      ]
    },
    {
      "cell_type": "code",
      "metadata": {
        "id": "rZ8_3VQsIAi-",
        "colab": {
          "base_uri": "https://localhost:8080/"
        },
        "outputId": "f9f5ea58-9a84-4218-eaf9-1749adbcb2a9"
      },
      "source": [
        "print(allreviews_df[\"gotukola_key\"].value_counts())"
      ],
      "execution_count": null,
      "outputs": [
        {
          "output_type": "stream",
          "text": [
            "[]                        1534992\n",
            "[brahmi]                     2529\n",
            "[centella]                    733\n",
            "[gotukola]                    472\n",
            "[centella, brahmi]             43\n",
            "[madecassol, centella]         24\n",
            "[brahmi, centella]              5\n",
            "[gotukola, centella]            1\n",
            "Name: gotukola_key, dtype: int64\n"
          ],
          "name": "stdout"
        }
      ]
    },
    {
      "cell_type": "code",
      "metadata": {
        "id": "L505pzd9IA9F",
        "colab": {
          "base_uri": "https://localhost:8080/"
        },
        "outputId": "e5482622-42bf-4ab3-e6bf-8f91029e796c"
      },
      "source": [
        "print(allreviews_df[\"rhodiola_key\"].value_counts())"
      ],
      "execution_count": null,
      "outputs": [
        {
          "output_type": "stream",
          "text": [
            "[]            1486082\n",
            "[rhodiola]      52717\n",
            "Name: rhodiola_key, dtype: int64\n"
          ],
          "name": "stdout"
        }
      ]
    },
    {
      "cell_type": "code",
      "metadata": {
        "id": "YH8EQ364IBKQ",
        "colab": {
          "base_uri": "https://localhost:8080/"
        },
        "outputId": "f9fc739d-b602-477e-a93b-fd2d96c3fc51"
      },
      "source": [
        "print(allreviews_df[\"chamomile_key\"].value_counts())"
      ],
      "execution_count": null,
      "outputs": [
        {
          "output_type": "stream",
          "text": [
            "[]                         1465404\n",
            "[chamomile]                  73385\n",
            "[chamomile, chamomilla]         10\n",
            "Name: chamomile_key, dtype: int64\n"
          ],
          "name": "stdout"
        }
      ]
    },
    {
      "cell_type": "code",
      "metadata": {
        "id": "upvWwT9YIBX8",
        "colab": {
          "base_uri": "https://localhost:8080/"
        },
        "outputId": "b5adac3a-9913-43db-ea7a-639f338e3483"
      },
      "source": [
        "print(allreviews_df[\"passionflower_key\"].value_counts())"
      ],
      "execution_count": null,
      "outputs": [
        {
          "output_type": "stream",
          "text": [
            "[]                             1536682\n",
            "[passionflower]                   1575\n",
            "[passiflora]                       270\n",
            "[pasiflora]                        259\n",
            "[passionflower, passiflora]         13\n",
            "Name: passionflower_key, dtype: int64\n"
          ],
          "name": "stdout"
        }
      ]
    },
    {
      "cell_type": "code",
      "metadata": {
        "id": "vDLLxfxkIBje",
        "colab": {
          "base_uri": "https://localhost:8080/"
        },
        "outputId": "720f2578-4d78-4c6c-985a-91c618109ca1"
      },
      "source": [
        "print(allreviews_df[\"turmeric_key\"].value_counts())"
      ],
      "execution_count": null,
      "outputs": [
        {
          "output_type": "stream",
          "text": [
            "[]                                                 1400439\n",
            "[turmeric]                                           58141\n",
            "[turmeric, curcumin]                                 35485\n",
            "[turmeric, curcumin, curcuminoids]                   29147\n",
            "[curcumin, turmeric]                                  6036\n",
            "[curcumin]                                            5499\n",
            "[curcumin, turmeric, curcuminoids]                    1534\n",
            "[turmeric, curcuma]                                   1300\n",
            "[turmeric, curcumin, curcuminoid, curcuminoids]        820\n",
            "[curcumin, curcuminoids, turmeric]                     173\n",
            "[turmeric, curcumin, curcuma]                           80\n",
            "[turmeric, curcumin, curcuminoid]                       50\n",
            "[turmeric, haldi]                                       40\n",
            "[turmeric, curcumin, curcuminoids, curcuma]             20\n",
            "[turmeric, curcuminoids]                                11\n",
            "[curcuma, turmeric]                                     11\n",
            "[haldi]                                                  5\n",
            "[turmeric, curcumin, curcuma, haldi]                     4\n",
            "[haldi, turmeric]                                        3\n",
            "[curcumin, curcuminoids]                                 1\n",
            "Name: turmeric_key, dtype: int64\n"
          ],
          "name": "stdout"
        }
      ]
    },
    {
      "cell_type": "code",
      "metadata": {
        "id": "XAyTs_QrIYm4",
        "colab": {
          "base_uri": "https://localhost:8080/"
        },
        "outputId": "cc6363b5-efa0-4437-fadb-78ab19d1aeed"
      },
      "source": [
        "print(allreviews_df[\"bacopa_key\"].value_counts())"
      ],
      "execution_count": null,
      "outputs": [
        {
          "output_type": "stream",
          "text": [
            "[]          1480567\n",
            "[bacopa]      58232\n",
            "Name: bacopa_key, dtype: int64\n"
          ],
          "name": "stdout"
        }
      ]
    },
    {
      "cell_type": "code",
      "metadata": {
        "id": "ynR5bxlAIYzO",
        "colab": {
          "base_uri": "https://localhost:8080/"
        },
        "outputId": "5d894bd4-5c0f-4c4c-f04f-46c1ca0bef65"
      },
      "source": [
        "print(allreviews_df[\"valarian_key\"].value_counts())"
      ],
      "execution_count": null,
      "outputs": [
        {
          "output_type": "stream",
          "text": [
            "[]             1538096\n",
            "[valeriana]        356\n",
            "[valarian]         347\n",
            "Name: valarian_key, dtype: int64\n"
          ],
          "name": "stdout"
        }
      ]
    },
    {
      "cell_type": "markdown",
      "metadata": {
        "id": "nclgUsjveSgc"
      },
      "source": [
        "Display the distribution of ingredients with their combinations"
      ]
    },
    {
      "cell_type": "code",
      "metadata": {
        "id": "mjZ9jxwiitah"
      },
      "source": [
        "allreviews_df['ing_list'] = allreviews_df['larginine_key'] + allreviews_df['lysine_key']+ allreviews_df['lemonbalm_key'] + allreviews_df['ashwagandha_key'] + allreviews_df['gotukola_key'] + allreviews_df['rhodiola_key'] + allreviews_df['chamomile_key']+ allreviews_df['passionflower_key'] + allreviews_df['turmeric_key'] + allreviews_df['bacopa_key'] + allreviews_df['valarian_key']\n"
      ],
      "execution_count": null,
      "outputs": []
    },
    {
      "cell_type": "code",
      "metadata": {
        "id": "vpZmijy9ow9y",
        "colab": {
          "base_uri": "https://localhost:8080/"
        },
        "outputId": "1d9081fa-ce25-41e0-f3f6-ba31a1429950"
      },
      "source": [
        "print(allreviews_df['ing_list'].value_counts())"
      ],
      "execution_count": null,
      "outputs": [
        {
          "output_type": "stream",
          "text": [
            "[]                                                 1183911\n",
            "[chamomile]                                          63766\n",
            "[turmeric]                                           53666\n",
            "[bacopa]                                             36261\n",
            "[turmeric, curcumin]                                 35391\n",
            "                                                    ...   \n",
            "[haldi, turmeric]                                        3\n",
            "[ashwagandha, ginseng, withania]                         2\n",
            "[melisa]                                                 2\n",
            "[gotukola, centella]                                     1\n",
            "[ashwagandha, rhodiola, curcumin, curcuminoids]          1\n",
            "Name: ing_list, Length: 95, dtype: int64\n"
          ],
          "name": "stdout"
        }
      ]
    },
    {
      "cell_type": "code",
      "metadata": {
        "id": "H7gE2ForcRx2"
      },
      "source": [
        "result_df=allreviews_df['ing_list'].value_counts().to_frame()"
      ],
      "execution_count": null,
      "outputs": []
    },
    {
      "cell_type": "code",
      "metadata": {
        "id": "pDRXOvo9c7kd"
      },
      "source": [
        "result_df.to_csv(r'ingredient_results.csv')"
      ],
      "execution_count": null,
      "outputs": []
    },
    {
      "cell_type": "code",
      "metadata": {
        "id": "BxBJ8f3WitgR"
      },
      "source": [
        "#Call set_indicator function to set ing_ind\n",
        "allreviews_df[\"larginine_ind\"] = allreviews_df[\"larginine_key\"].apply(lambda x: set_indicator(x))\n",
        "allreviews_df[\"lysine_ind\"] = allreviews_df[\"lysine_key\"].apply(lambda x: set_indicator(x))\n",
        "allreviews_df[\"lemonbalm_ind\"] = allreviews_df[\"lemonbalm_key\"].apply(lambda x: set_indicator(x))\n",
        "allreviews_df[\"ashwagandha_ind\"] = allreviews_df[\"ashwagandha_key\"].apply(lambda x: set_indicator(x))\n",
        "allreviews_df[\"gotukola_ind\"] = allreviews_df[\"gotukola_key\"].apply(lambda x: set_indicator(x))\n",
        "\n",
        "allreviews_df[\"rhodiola_ind\"] = allreviews_df[\"rhodiola_key\"].apply(lambda x: set_indicator(x))\n",
        "allreviews_df[\"chamomile_ind\"] = allreviews_df[\"chamomile_key\"].apply(lambda x: set_indicator(x))\n",
        "allreviews_df[\"passionflower_ind\"] = allreviews_df[\"passionflower_key\"].apply(lambda x: set_indicator(x))\n",
        "allreviews_df[\"turmeric_ind\"] = allreviews_df[\"turmeric_key\"].apply(lambda x: set_indicator(x))\n",
        "allreviews_df[\"bacopa_ind\"] = allreviews_df[\"bacopa_key\"].apply(lambda x: set_indicator(x))\n",
        "allreviews_df[\"valarian_ind\"] = allreviews_df[\"valarian_key\"].apply(lambda x: set_indicator(x))"
      ],
      "execution_count": null,
      "outputs": []
    },
    {
      "cell_type": "code",
      "metadata": {
        "id": "KTfvVAGQK16R"
      },
      "source": [
        "def set_total_indicator(larginine_ind, lysine_ind, lemonbalm_ind,ashwagandha_ind, gotukola_ind, rhodiola_ind, chamomile_ind, passionflower_ind, turmeric_ind, bacopa_ind,valarian_ind):\n",
        "    if larginine_ind==1 or lysine_ind==1 or lemonbalm_ind==1 or ashwagandha_ind==1 or gotukola_ind ==1 or rhodiola_ind ==1 or chamomile_ind ==1 or passionflower_ind ==1 or turmeric_ind ==1 or bacopa_ind ==1 or valarian_ind==1:\n",
        "        result=1\n",
        "    else:\n",
        "        result=0\n",
        "    return result\n",
        "\n",
        "allreviews_df['ing_found'] = allreviews_df.apply(lambda x: set_total_indicator(x['larginine_ind'], x['lysine_ind'], x['lemonbalm_ind'],x['ashwagandha_ind'], x['gotukola_ind'], x['rhodiola_ind'], x['chamomile_ind'], x['passionflower_ind'], x['turmeric_ind'], x['bacopa_ind'],x['valarian_ind']), axis=1)"
      ],
      "execution_count": null,
      "outputs": []
    },
    {
      "cell_type": "code",
      "metadata": {
        "id": "bKbHZ5e0MxIv",
        "colab": {
          "base_uri": "https://localhost:8080/"
        },
        "outputId": "f3b0fca5-a20d-4f7c-b3a7-b2434058a6bf"
      },
      "source": [
        "print(allreviews_df['ing_found'].value_counts())"
      ],
      "execution_count": null,
      "outputs": [
        {
          "output_type": "stream",
          "text": [
            "0    1183911\n",
            "1     354888\n",
            "Name: ing_found, dtype: int64\n"
          ],
          "name": "stdout"
        }
      ]
    },
    {
      "cell_type": "markdown",
      "metadata": {
        "id": "F_rCXyq2MV2b"
      },
      "source": [
        "Finding ingredients only product name"
      ]
    },
    {
      "cell_type": "code",
      "metadata": {
        "id": "mDV4Bux5MVaF"
      },
      "source": [
        "# clean ProductName data\n",
        "df_prod_name[\"ProductName_Clean\"] = df_prod_name[\"ProductName\"].apply(lambda x: clean_text(x))\n",
        "\n",
        "#Find the ingredient keys\n",
        "df_prod_name[\"larginine_key\"] = df_prod_name[\"ProductName_Clean\"].apply(lambda x: match(input_string=x, string_list=lst_l_arginine))\n",
        "df_prod_name[\"lysine_key\"] = df_prod_name[\"ProductName_Clean\"].apply(lambda x: match(input_string=x, string_list=lst_lysine))\n",
        "df_prod_name[\"lemonbalm_key\"] = df_prod_name[\"ProductName_Clean\"].apply(lambda x: match(input_string=x, string_list=lst_lemonbalm))\n",
        "df_prod_name[\"ashwagandha_key\"] = df_prod_name[\"ProductName_Clean\"].apply(lambda x: match(input_string=x, string_list=lst_ashwagandha))\n",
        "df_prod_name[\"gotukola_key\"] = df_prod_name[\"ProductName_Clean\"].apply(lambda x: match(input_string=x, string_list=lst_gotukola))\n",
        "df_prod_name[\"rhodiola_key\"] = df_prod_name[\"ProductName_Clean\"].apply(lambda x: match(input_string=x, string_list=lst_rhodiola))\n",
        "df_prod_name[\"chamomile_key\"] = df_prod_name[\"ProductName_Clean\"].apply(lambda x: match(input_string=x, string_list=lst_chamomile))\n",
        "df_prod_name[\"passionflower_key\"] = df_prod_name[\"ProductName_Clean\"].apply(lambda x: match(input_string=x, string_list=lst_passionflower))\n",
        "df_prod_name[\"turmeric_key\"] = df_prod_name[\"ProductName_Clean\"].apply(lambda x: match(input_string=x, string_list=lst_turmeric))\n",
        "df_prod_name[\"bacopa_key\"] = df_prod_name[\"ProductName_Clean\"].apply(lambda x: match(input_string=x, string_list=lst_bacopa))\n",
        "df_prod_name[\"valarian_key\"] = df_prod_name[\"ProductName_Clean\"].apply(lambda x: match(input_string=x, string_list=lst_valarian))\n",
        "\n",
        "#Get unique ingredient key\n",
        "df_prod_name['larginine_key'] = df_prod_name['larginine_key'].apply(lambda x: list(pd.unique(x)))\n",
        "df_prod_name['lysine_key'] = df_prod_name['lysine_key'].apply(lambda x: list(pd.unique(x)))\n",
        "df_prod_name['lemonbalm_key'] = df_prod_name['lemonbalm_key'].apply(lambda x: list(pd.unique(x)))\n",
        "df_prod_name['ashwagandha_key'] = df_prod_name['ashwagandha_key'].apply(lambda x: list(pd.unique(x)))\n",
        "df_prod_name['gotukola_key'] = df_prod_name['gotukola_key'].apply(lambda x: list(pd.unique(x)))\n",
        "\n",
        "df_prod_name['rhodiola_key'] = df_prod_name['rhodiola_key'].apply(lambda x: list(pd.unique(x)))\n",
        "df_prod_name['chamomile_key'] = df_prod_name['chamomile_key'].apply(lambda x: list(pd.unique(x)))\n",
        "df_prod_name['passionflower_key'] = df_prod_name['passionflower_key'].apply(lambda x: list(pd.unique(x)))\n",
        "df_prod_name['turmeric_key'] = df_prod_name['turmeric_key'].apply(lambda x: list(pd.unique(x)))\n",
        "df_prod_name['bacopa_key'] = df_prod_name['bacopa_key'].apply(lambda x: list(pd.unique(x)))\n",
        "df_prod_name['valarian_key'] = df_prod_name['valarian_key'].apply(lambda x: list(pd.unique(x)))"
      ],
      "execution_count": null,
      "outputs": []
    },
    {
      "cell_type": "code",
      "metadata": {
        "colab": {
          "base_uri": "https://localhost:8080/"
        },
        "id": "9vmUTZ-PNPm0",
        "outputId": "00c17e65-776b-40c0-f02e-511c7f27e010"
      },
      "source": [
        "df_prod_name['ing_list'] = df_prod_name['larginine_key'] + df_prod_name['lysine_key']+ df_prod_name['lemonbalm_key'] + df_prod_name['ashwagandha_key'] + df_prod_name['gotukola_key'] + df_prod_name['rhodiola_key'] + df_prod_name['chamomile_key']+ df_prod_name['passionflower_key'] + df_prod_name['turmeric_key'] + df_prod_name['bacopa_key'] + df_prod_name['valarian_key']\n",
        "\n",
        "print(df_prod_name['ing_list'].value_counts())\n",
        "\n",
        "result_df1=df_prod_name['ing_list'].value_counts().to_frame()"
      ],
      "execution_count": null,
      "outputs": [
        {
          "output_type": "stream",
          "text": [
            "[]                                             8856\n",
            "[turmeric]                                      453\n",
            "[chamomile]                                     451\n",
            "[rhodiola]                                      173\n",
            "[ashwagandha]                                   161\n",
            "                                               ... \n",
            "[haldi, turmeric]                                 1\n",
            "[haldi]                                           1\n",
            "[turmeric, curcumin, curcuma, haldi]              1\n",
            "[turmeric, haldi]                                 1\n",
            "[turmeric, curcumin, curcuminoids, curcuma]       1\n",
            "Name: ing_list, Length: 95, dtype: int64\n"
          ],
          "name": "stdout"
        }
      ]
    },
    {
      "cell_type": "code",
      "metadata": {
        "id": "ZYB7UI-mO0I7"
      },
      "source": [
        "result_df.rename(columns = {'ing_list':'Review_Count'}, inplace = True)\n",
        "result_df1.rename(columns = {'ing_list':'Product_Count'}, inplace = True)\n",
        "result_df.to_csv(r'ingredient_review_count')\n",
        "result_df1.to_csv(r'ingredient_product_count')"
      ],
      "execution_count": null,
      "outputs": []
    },
    {
      "cell_type": "code",
      "metadata": {
        "colab": {
          "base_uri": "https://localhost:8080/",
          "height": 419
        },
        "id": "s1RFTp0JXESB",
        "outputId": "f00c72e8-4683-4de8-e4ca-049f5dbdfaba"
      },
      "source": [
        "result_df\n"
      ],
      "execution_count": null,
      "outputs": [
        {
          "output_type": "execute_result",
          "data": {
            "text/html": [
              "<div>\n",
              "<style scoped>\n",
              "    .dataframe tbody tr th:only-of-type {\n",
              "        vertical-align: middle;\n",
              "    }\n",
              "\n",
              "    .dataframe tbody tr th {\n",
              "        vertical-align: top;\n",
              "    }\n",
              "\n",
              "    .dataframe thead th {\n",
              "        text-align: right;\n",
              "    }\n",
              "</style>\n",
              "<table border=\"1\" class=\"dataframe\">\n",
              "  <thead>\n",
              "    <tr style=\"text-align: right;\">\n",
              "      <th></th>\n",
              "      <th>Review_Count</th>\n",
              "    </tr>\n",
              "  </thead>\n",
              "  <tbody>\n",
              "    <tr>\n",
              "      <th>[]</th>\n",
              "      <td>1183911</td>\n",
              "    </tr>\n",
              "    <tr>\n",
              "      <th>[chamomile]</th>\n",
              "      <td>63766</td>\n",
              "    </tr>\n",
              "    <tr>\n",
              "      <th>[turmeric]</th>\n",
              "      <td>53666</td>\n",
              "    </tr>\n",
              "    <tr>\n",
              "      <th>[bacopa]</th>\n",
              "      <td>36261</td>\n",
              "    </tr>\n",
              "    <tr>\n",
              "      <th>[turmeric, curcumin]</th>\n",
              "      <td>35391</td>\n",
              "    </tr>\n",
              "    <tr>\n",
              "      <th>...</th>\n",
              "      <td>...</td>\n",
              "    </tr>\n",
              "    <tr>\n",
              "      <th>[haldi, turmeric]</th>\n",
              "      <td>3</td>\n",
              "    </tr>\n",
              "    <tr>\n",
              "      <th>[ashwagandha, ginseng, withania]</th>\n",
              "      <td>2</td>\n",
              "    </tr>\n",
              "    <tr>\n",
              "      <th>[melisa]</th>\n",
              "      <td>2</td>\n",
              "    </tr>\n",
              "    <tr>\n",
              "      <th>[gotukola, centella]</th>\n",
              "      <td>1</td>\n",
              "    </tr>\n",
              "    <tr>\n",
              "      <th>[ashwagandha, rhodiola, curcumin, curcuminoids]</th>\n",
              "      <td>1</td>\n",
              "    </tr>\n",
              "  </tbody>\n",
              "</table>\n",
              "<p>95 rows × 1 columns</p>\n",
              "</div>"
            ],
            "text/plain": [
              "                                                 Review_Count\n",
              "[]                                                    1183911\n",
              "[chamomile]                                             63766\n",
              "[turmeric]                                              53666\n",
              "[bacopa]                                                36261\n",
              "[turmeric, curcumin]                                    35391\n",
              "...                                                       ...\n",
              "[haldi, turmeric]                                           3\n",
              "[ashwagandha, ginseng, withania]                            2\n",
              "[melisa]                                                    2\n",
              "[gotukola, centella]                                        1\n",
              "[ashwagandha, rhodiola, curcumin, curcuminoids]             1\n",
              "\n",
              "[95 rows x 1 columns]"
            ]
          },
          "metadata": {
            "tags": []
          },
          "execution_count": 35
        }
      ]
    },
    {
      "cell_type": "code",
      "metadata": {
        "id": "TFaAo9aQX4-k",
        "colab": {
          "base_uri": "https://localhost:8080/",
          "height": 419
        },
        "outputId": "e00f0056-37c9-4a3c-f5d4-fba2fb467d62"
      },
      "source": [
        "result_df1\n"
      ],
      "execution_count": null,
      "outputs": [
        {
          "output_type": "execute_result",
          "data": {
            "text/html": [
              "<div>\n",
              "<style scoped>\n",
              "    .dataframe tbody tr th:only-of-type {\n",
              "        vertical-align: middle;\n",
              "    }\n",
              "\n",
              "    .dataframe tbody tr th {\n",
              "        vertical-align: top;\n",
              "    }\n",
              "\n",
              "    .dataframe thead th {\n",
              "        text-align: right;\n",
              "    }\n",
              "</style>\n",
              "<table border=\"1\" class=\"dataframe\">\n",
              "  <thead>\n",
              "    <tr style=\"text-align: right;\">\n",
              "      <th></th>\n",
              "      <th>Product_Count</th>\n",
              "    </tr>\n",
              "  </thead>\n",
              "  <tbody>\n",
              "    <tr>\n",
              "      <th>[]</th>\n",
              "      <td>8856</td>\n",
              "    </tr>\n",
              "    <tr>\n",
              "      <th>[turmeric]</th>\n",
              "      <td>453</td>\n",
              "    </tr>\n",
              "    <tr>\n",
              "      <th>[chamomile]</th>\n",
              "      <td>451</td>\n",
              "    </tr>\n",
              "    <tr>\n",
              "      <th>[rhodiola]</th>\n",
              "      <td>173</td>\n",
              "    </tr>\n",
              "    <tr>\n",
              "      <th>[ashwagandha]</th>\n",
              "      <td>161</td>\n",
              "    </tr>\n",
              "    <tr>\n",
              "      <th>...</th>\n",
              "      <td>...</td>\n",
              "    </tr>\n",
              "    <tr>\n",
              "      <th>[haldi, turmeric]</th>\n",
              "      <td>1</td>\n",
              "    </tr>\n",
              "    <tr>\n",
              "      <th>[haldi]</th>\n",
              "      <td>1</td>\n",
              "    </tr>\n",
              "    <tr>\n",
              "      <th>[turmeric, curcumin, curcuma, haldi]</th>\n",
              "      <td>1</td>\n",
              "    </tr>\n",
              "    <tr>\n",
              "      <th>[turmeric, haldi]</th>\n",
              "      <td>1</td>\n",
              "    </tr>\n",
              "    <tr>\n",
              "      <th>[turmeric, curcumin, curcuminoids, curcuma]</th>\n",
              "      <td>1</td>\n",
              "    </tr>\n",
              "  </tbody>\n",
              "</table>\n",
              "<p>95 rows × 1 columns</p>\n",
              "</div>"
            ],
            "text/plain": [
              "                                             Product_Count\n",
              "[]                                                    8856\n",
              "[turmeric]                                             453\n",
              "[chamomile]                                            451\n",
              "[rhodiola]                                             173\n",
              "[ashwagandha]                                          161\n",
              "...                                                    ...\n",
              "[haldi, turmeric]                                        1\n",
              "[haldi]                                                  1\n",
              "[turmeric, curcumin, curcuma, haldi]                     1\n",
              "[turmeric, haldi]                                        1\n",
              "[turmeric, curcumin, curcuminoids, curcuma]              1\n",
              "\n",
              "[95 rows x 1 columns]"
            ]
          },
          "metadata": {
            "tags": []
          },
          "execution_count": 36
        }
      ]
    }
  ]
}